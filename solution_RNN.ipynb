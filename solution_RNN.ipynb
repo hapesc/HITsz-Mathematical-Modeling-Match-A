{
 "cells": [
  {
   "cell_type": "code",
   "execution_count": 2,
   "metadata": {},
   "outputs": [],
   "source": [
    "import numpy as np\n",
    "import pandas as pd\n",
    "import matplotlib.pyplot as plt\n",
    "import seaborn as sns\n",
    "import sklearn\n",
    "import scipy as sp\n",
    "import torch\n"
   ]
  },
  {
   "cell_type": "code",
   "execution_count": 60,
   "metadata": {},
   "outputs": [],
   "source": [
    "raw_data=pd.read_csv('meta_data/Data1.csv')\n",
    "label_1=pd.read_csv('meta_data/Label_of_Data1.csv')\n",
    "label_1.iloc[86,2]=30014\n",
    "length=label_1.iloc[:,2]-label_1.iloc[:,1]\n",
    "length=pd.DataFrame(length,columns=['length']).to_numpy()\n",
    "label_1=label_1.to_numpy()\n",
    "label_1=np.append(label_1,length,axis=1)\n",
    "label_1[:,0]=np.where(label_1[:,0]>'-1',1,0)\n",
    "respond_label_1=label_1[:,0]\n",
    "training_set_label=label_1[:,-1].reshape(126,1)"
   ]
  },
  {
   "cell_type": "code",
   "execution_count": 68,
   "metadata": {},
   "outputs": [],
   "source": [
    "from sklearn.preprocessing import StandardScaler\n",
    "#   进行标准化\n",
    "data_set=raw_data.iloc[:,1:7].to_numpy()\n",
    "response=raw_data.iloc[:,-2:]\n",
    "Time=raw_data.iloc[:,0]\n",
    "E_acc=(raw_data.iloc[:,1]**2 + raw_data.iloc[:,2]**2 + raw_data.iloc[:,3]**2).to_numpy().reshape(len(data_set),1)\n",
    "E_omega=(raw_data.iloc[:,4]**2 + raw_data.iloc[:,5]**2 + raw_data.iloc[:,6]**2).to_numpy().reshape(len(data_set),1)\n",
    "data_set=np.append(data_set,E_acc,axis=1)\n",
    "data_set=np.append(data_set,E_omega,axis=1)\n",
    "scaler=StandardScaler()\n",
    "\n",
    "data_train1=scaler.fit_transform(data_set)  #   以每个点来做分类\n",
    "\n",
    "training_set_label=scaler.fit_transform(training_set_label)\n"
   ]
  }
 ],
 "metadata": {
  "interpreter": {
   "hash": "0d4b8d9fc9a21091392de4473b68fdd914c390ac90b5c69c6f18d1bb6be89424"
  },
  "kernelspec": {
   "display_name": "Python 3.8.12 64-bit ('my_env': conda)",
   "language": "python",
   "name": "python3"
  },
  "language_info": {
   "codemirror_mode": {
    "name": "ipython",
    "version": 3
   },
   "file_extension": ".py",
   "mimetype": "text/x-python",
   "name": "python",
   "nbconvert_exporter": "python",
   "pygments_lexer": "ipython3",
   "version": "3.8.12"
  },
  "orig_nbformat": 4
 },
 "nbformat": 4,
 "nbformat_minor": 2
}
